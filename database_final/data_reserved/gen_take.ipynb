{
 "cells": [
  {
   "cell_type": "code",
   "execution_count": 1,
   "metadata": {},
   "outputs": [
    {
     "name": "stdout",
     "output_type": "stream",
     "text": [
      "Data has been written to 'take.csv'\n"
     ]
    }
   ],
   "source": [
    "import random\n",
    "import pandas as pd\n",
    "import csv\n",
    "\n",
    "# 讀取CSV檔案\n",
    "class_data = pd.read_csv('./old_data/class.csv')\n",
    "student_data = pd.read_csv('student.csv')\n",
    "\n",
    "# 獲取不重複的課程名稱列表\n",
    "class_type = class_data['class_name'].drop_duplicates().tolist()\n",
    "\n",
    "# 生成隨機選課資料\n",
    "take = []  # 用來儲存 student_id 和 class_id\n",
    "\n",
    "# 遍歷學生資料，使用 iterrows() 來遍歷每一行\n",
    "for _, student_row in student_data.iterrows():\n",
    "    # 檢查學生是否仍在學\n",
    "    if student_row['status'] != '已離開':\n",
    "        # 根據學生的年級選擇課程\n",
    "        if student_row['grade'] == '三年級':\n",
    "            # 篩選出 '高三' 的課程，並隨機選擇\n",
    "            available_classes = class_data[class_data['class_name'].str.startswith('高三')]\n",
    "            class_id = random.choice(available_classes['class_id'].tolist())\n",
    "        elif student_row['grade'] == '二年級':\n",
    "            # 篩選出 '高二' 的課程，並隨機選擇\n",
    "            available_classes = class_data[class_data['class_name'].str.startswith('高二')]\n",
    "            class_id = random.choice(available_classes['class_id'].tolist())\n",
    "        else:\n",
    "            # 篩選出 '高一' 的課程，並隨機選擇\n",
    "            available_classes = class_data[class_data['class_name'].str.startswith('高一')]\n",
    "            class_id = random.choice(available_classes['class_id'].tolist())\n",
    "\n",
    "        # 把學生ID與課程ID加入選課清單\n",
    "        take.append([student_row['student_id'], class_id])\n",
    "\n",
    "# 寫入 'take.csv' 檔案\n",
    "with open('take.csv', mode='w', newline='') as file:\n",
    "    writer = csv.writer(file)\n",
    "    writer.writerow([\"student_id\", \"class_id\"])  # 寫入表頭\n",
    "    writer.writerows(take)  # 寫入學生選課資料\n",
    "\n",
    "print(\"Data has been written to 'take.csv'\")\n"
   ]
  },
  {
   "cell_type": "code",
   "execution_count": null,
   "metadata": {},
   "outputs": [],
   "source": []
  }
 ],
 "metadata": {
  "kernelspec": {
   "display_name": "3.10.0",
   "language": "python",
   "name": "python3"
  },
  "language_info": {
   "codemirror_mode": {
    "name": "ipython",
    "version": 3
   },
   "file_extension": ".py",
   "mimetype": "text/x-python",
   "name": "python",
   "nbconvert_exporter": "python",
   "pygments_lexer": "ipython3",
   "version": "3.10.0"
  }
 },
 "nbformat": 4,
 "nbformat_minor": 2
}
